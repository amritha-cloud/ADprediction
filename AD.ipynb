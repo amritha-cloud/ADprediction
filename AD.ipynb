{
  "cells": [
    {
      "cell_type": "code",
      "execution_count": 1,
      "metadata": {
        "id": "HerXShutLYsg"
      },
      "outputs": [],
      "source": [
        "from google.colab import drive"
      ]
    },
    {
      "cell_type": "code",
      "execution_count": 2,
      "metadata": {
        "colab": {
          "base_uri": "https://localhost:8080/"
        },
        "id": "GOpYE-c2L25d",
        "outputId": "3a07af5d-9d06-4c0b-a1d4-283daf12a796"
      },
      "outputs": [
        {
          "output_type": "stream",
          "name": "stdout",
          "text": [
            "Mounted at /content/drive\n"
          ]
        }
      ],
      "source": [
        "drive.mount('/content/drive')"
      ]
    },
    {
      "cell_type": "code",
      "execution_count": 3,
      "metadata": {
        "id": "GiLM02usL_5j"
      },
      "outputs": [],
      "source": [
        "import keras\n",
        "from tensorflow.keras.layers import MaxPooling2D, Conv2D, Flatten, Dense, Dropout\n",
        "from tensorflow.keras.models import Sequential\n",
        "from tensorflow.keras.preprocessing.image import ImageDataGenerator\n",
        "from keras.layers import GlobalAveragePooling2D, GlobalMaxPooling2D, MaxPooling2D, Reshape, Dense, multiply, Permute, Concatenate, Conv2D, Add, Activation, Lambda\n",
        "from keras.activations import sigmoid\n",
        "from keras import layers\n",
        "from keras.preprocessing.image import ImageDataGenerator\n",
        "from keras import initializers\n",
        "from keras.models import Sequential"
      ]
    },
    {
      "cell_type": "markdown",
      "metadata": {
        "id": "PJQG-6DvLgXL"
      },
      "source": []
    },
    {
      "cell_type": "code",
      "execution_count": 4,
      "metadata": {
        "id": "wFzpMsbeNAXT"
      },
      "outputs": [],
      "source": [
        "#train path\n",
        "train_p = \"/content/drive/MyDrive/Alzheimer_s Dataset-2/train\"\n",
        "#test path\n",
        "test_p = \"/content/drive/MyDrive/Alzheimer_s Dataset-2/test\""
      ]
    },
    {
      "cell_type": "code",
      "execution_count": 5,
      "metadata": {
        "id": "7-I6xBAqNN3i"
      },
      "outputs": [],
      "source": [
        "train_datagen = ImageDataGenerator(validation_split=0.1,\n",
        "                                   rescale=1./255,\n",
        "                                   shear_range=0.2,\n",
        "                                   zoom_range=0.2,\n",
        "                                   horizontal_flip=True)"
      ]
    },
    {
      "cell_type": "code",
      "source": [
        "train_batches = train_datagen.flow_from_directory(directory=train_p, \n",
        "                                                  classes=['NonDemented', 'VeryMildDemented', \n",
        "                                                           'MildDemented', 'ModerateDemented'], \n",
        "                                                  target_size=(224, 224),\n",
        "                                                  subset='training', \n",
        "                                                  batch_size=10)"
      ],
      "metadata": {
        "colab": {
          "base_uri": "https://localhost:8080/"
        },
        "id": "UXREALXGp3DB",
        "outputId": "9148a021-d46c-4b6e-ed20-3f8f614361b1"
      },
      "execution_count": 6,
      "outputs": [
        {
          "output_type": "stream",
          "name": "stdout",
          "text": [
            "Found 4610 images belonging to 4 classes.\n"
          ]
        }
      ]
    },
    {
      "cell_type": "code",
      "source": [
        "validation_batches = train_datagen.flow_from_directory(directory=train_p, \n",
        "                                                       classes=['NonDemented', 'VeryMildDemented', \n",
        "                                                                'MildDemented', 'ModerateDemented'], \n",
        "                                                       target_size=(224, 224),\n",
        "                                                       subset='validation',\n",
        "                                                       batch_size=10)"
      ],
      "metadata": {
        "colab": {
          "base_uri": "https://localhost:8080/"
        },
        "id": "Ns7_C-pap7I-",
        "outputId": "87dccfe1-13a6-443b-ed59-e8928eeb4e28"
      },
      "execution_count": 7,
      "outputs": [
        {
          "output_type": "stream",
          "name": "stdout",
          "text": [
            "Found 511 images belonging to 4 classes.\n"
          ]
        }
      ]
    },
    {
      "cell_type": "code",
      "source": [
        "test_datagen = ImageDataGenerator(rescale=1./255)"
      ],
      "metadata": {
        "id": "HoQiT-iep-3d"
      },
      "execution_count": 8,
      "outputs": []
    },
    {
      "cell_type": "code",
      "source": [
        "test_batches = test_datagen.flow_from_directory(directory=test_p, \n",
        "                                                classes=['NonDemented', 'VeryMildDemented', \n",
        "                                                         'MildDemented', 'ModerateDemented'], \n",
        "                                                target_size=(224, 224),\n",
        "                                                batch_size=10, \n",
        "                                                shuffle=False)"
      ],
      "metadata": {
        "colab": {
          "base_uri": "https://localhost:8080/"
        },
        "id": "K2zAozLPqJm6",
        "outputId": "811ddca1-5ee7-41e0-a7d0-952e381ee849"
      },
      "execution_count": 9,
      "outputs": [
        {
          "output_type": "stream",
          "name": "stdout",
          "text": [
            "Found 1279 images belonging to 4 classes.\n"
          ]
        }
      ]
    },
    {
      "cell_type": "markdown",
      "source": [
        "I added data augmentation to the training data generator, which includes rescaling, shearing, zooming, and horizontal flipping of the images. I also specified the target_size parameter to resize the images to a common size of 224 x 224 pixels, which is a commonly used size for image classification models.\n",
        "\n",
        "I also separated the training data generator and the test data generator to have different parameters. For the test data generator, I only included rescaling to normalize the pixel values.\n",
        "\n",
        "Overall, these changes should improve the performance of the machine learning model by augmenting the training data and resizing the images to a common size."
      ],
      "metadata": {
        "id": "TMmZ1Ekeqm42"
      }
    },
    {
      "cell_type": "code",
      "execution_count": 10,
      "metadata": {
        "id": "tWhYNR2tNVGX"
      },
      "outputs": [],
      "source": [
        "class_names = ['NonDemented', 'VeryMildDemented', 'MildDemented', 'ModerateDemented']\n",
        "num_images = []\n",
        "\n",
        "for cls in class_names:\n",
        "    path = os.path.join(train_p, cls)\n",
        "    num_images.append(len(os.listdir(path)))"
      ]
    },
    {
      "cell_type": "code",
      "source": [
        "fig, ax = plt.subplots()\n",
        "ax.bar(class_names, num_images, color=(0.1, 0.2, 0.4, 0.9))\n",
        "ax.set_title('Number of Images per Class')\n",
        "ax.set_xlabel('Class')\n",
        "ax.set_ylabel('Number of Images')"
      ],
      "metadata": {
        "colab": {
          "base_uri": "https://localhost:8080/",
          "height": 312
        },
        "id": "S5U9AeC2qSIY",
        "outputId": "5c98b6cd-3e40-442f-d6ff-702fcf6a066a"
      },
      "execution_count": 11,
      "outputs": [
        {
          "output_type": "execute_result",
          "data": {
            "text/plain": [
              "Text(0, 0.5, 'Number of Images')"
            ]
          },
          "metadata": {},
          "execution_count": 11
        },
        {
          "output_type": "display_data",
          "data": {
            "text/plain": [
              "<Figure size 432x288 with 1 Axes>"
            ],
            "image/png": "[encoded data removed]"
          },
          "metadata": {
            "needs_background": "light"
          }
        }
      ]
    },
    {
      "cell_type": "markdown",
      "source": [
        "I renamed the data dictionary to num_images to better reflect the information it stores. I also used os.path.join() to construct the path to the image directories, which is more platform-independent.\n",
        "\n",
        "Instead of using two loops to iterate through each class and each image in the training data, I simply looped through the class_names list and used os.listdir() to count the number of images in each class directory. The resulting counts are stored in the num_images list.\n",
        "\n",
        "Finally, I used the subplots() function to create a figure with a single subplot, and passed the ax object to the bar() function to plot the data. I also added a title, and x and y axis labels to the plot for clarity."
      ],
      "metadata": {
        "id": "BQznm9boqvpE"
      }
    },
    {
      "cell_type": "code",
      "execution_count": 12,
      "metadata": {
        "id": "NiViTPHCNZlf"
      },
      "outputs": [],
      "source": [
        "img_size = 224\n",
        "num_classes = 4\n",
        "model = Sequential([\n",
        "    layers.Input((img_size, img_size, 3)),\n",
        "    layers.Rescaling(1./255),\n",
        "    layers.Conv2D(32, 3, activation='relu', padding='same'),\n",
        "    layers.BatchNormalization(),\n",
        "    layers.MaxPooling2D(2),\n",
        "    layers.Conv2D(64, 3, activation='relu', padding='same'),\n",
        "    layers.BatchNormalization(),\n",
        "    layers.MaxPooling2D(2),\n",
        "    layers.Conv2D(128, 3, activation='relu', padding='same'),\n",
        "    layers.BatchNormalization(),\n",
        "    layers.MaxPooling2D(2),\n",
        "    layers.Conv2D(256, 3, activation='relu', padding='same'),\n",
        "    layers.BatchNormalization(),\n",
        "    layers.MaxPooling2D(2),\n",
        "    layers.Flatten(),\n",
        "    layers.Dense(300, activation='relu'),\n",
        "    layers.Dense(150, activation='relu'),\n",
        "    layers.Dropout(0.25),\n",
        "    layers.Dense(num_classes, activation='softmax')\n",
        "])\n"
      ]
    },
    {
      "cell_type": "code",
      "execution_count": 13,
      "metadata": {
        "id": "ocasbTAXNVRP"
      },
      "outputs": [],
      "source": [
        "metrics = [keras.metrics.CategoricalAccuracy(name='accuracy'),\n",
        "           keras.metrics.Precision(name='precision'),\n",
        "           keras.metrics.Recall(name='recall'),\n",
        "           keras.metrics.AUC(name='auc')]"
      ]
    },
    {
      "cell_type": "code",
      "execution_count": 14,
      "metadata": {
        "id": "4Z2G-2izNewt"
      },
      "outputs": [],
      "source": [
        "model.compile(optimizer=tf.keras.optimizers.Adam(learning_rate=0.0001), \n",
        "              loss='categorical_crossentropy', \n",
        "              metrics=metrics)"
      ]
    },
    {
      "cell_type": "code",
      "execution_count": 15,
      "metadata": {
        "id": "hChS3ujUNhdf"
      },
      "outputs": [],
      "source": [
        "epo = 5\n",
        "b_size = 8"
      ]
    },
    {
      "cell_type": "code",
      "execution_count": 16,
      "metadata": {
        "id": "XN3j5-kyNlZb",
        "colab": {
          "base_uri": "https://localhost:8080/"
        },
        "outputId": "d4dfb5c1-16ae-4ebe-9b38-0124afc087c5"
      },
      "outputs": [
        {
          "output_type": "stream",
          "name": "stdout",
          "text": [
            "Epoch 1/5\n",
            "461/461 - 810s - loss: 1.3232 - accuracy: 0.4757 - precision: 0.5079 - recall: 0.3883 - auc: 0.7607 - val_loss: 5.7273 - val_accuracy: 0.0098 - val_precision: 0.0098 - val_recall: 0.0098 - val_auc: 0.4143 - 810s/epoch - 2s/step\n",
            "Epoch 2/5\n",
            "461/461 - 68s - loss: 0.9950 - accuracy: 0.5174 - precision: 0.6234 - recall: 0.3742 - auc: 0.8148 - val_loss: 0.9726 - val_accuracy: 0.5421 - val_precision: 0.6527 - val_recall: 0.3973 - val_auc: 0.8232 - 68s/epoch - 147ms/step\n",
            "Epoch 3/5\n",
            "461/461 - 70s - loss: 0.9645 - accuracy: 0.5347 - precision: 0.6391 - recall: 0.3748 - auc: 0.8214 - val_loss: 0.9020 - val_accuracy: 0.5558 - val_precision: 0.6980 - val_recall: 0.3346 - val_auc: 0.8436 - 70s/epoch - 152ms/step\n",
            "Epoch 4/5\n",
            "461/461 - 68s - loss: 0.9203 - accuracy: 0.5447 - precision: 0.6412 - recall: 0.3831 - auc: 0.8355 - val_loss: 0.8787 - val_accuracy: 0.5362 - val_precision: 0.6269 - val_recall: 0.4012 - val_auc: 0.8514 - 68s/epoch - 147ms/step\n",
            "Epoch 5/5\n",
            "461/461 - 67s - loss: 0.9121 - accuracy: 0.5588 - precision: 0.6537 - recall: 0.3967 - auc: 0.8413 - val_loss: 0.9041 - val_accuracy: 0.5460 - val_precision: 0.6667 - val_recall: 0.3679 - val_auc: 0.8427 - 67s/epoch - 146ms/step\n"
          ]
        }
      ],
      "source": [
        "history = model.fit(x=train_batches,\n",
        "                    validation_data=validation_batches,\n",
        "                    steps_per_epoch=len(train_batches),\n",
        "                    validation_steps=len(validation_batches),\n",
        "                    epochs=epo,\n",
        "                    batch_size=b_size, \n",
        "                    verbose=2)"
      ]
    },
    {
      "cell_type": "code",
      "source": [
        "import numpy as np\n",
        "from tensorflow.keras.preprocessing import image\n",
        "\n",
        "img_path = '/content/drive/MyDrive/Alzheimer_s Dataset-2/test/MildDemented/26 (19).jpg'\n",
        "img = image.load_img(img_path, target_size=(img_size, img_size))\n",
        "x = image.img_to_array(img)\n",
        "x = np.expand_dims(x, axis=0)\n",
        "preds = model.predict(x)\n",
        "class_idx = np.argmax(preds[0])\n",
        "class_names = train_datagen\n",
        "for name, idx in class_names():\n",
        "    if idx == class_idx:\n",
        "        print(\"Predicted class: \", name, \"with probability of: \", preds[0][idx])\n"
      ],
      "metadata": {
        "colab": {
          "base_uri": "https://localhost:8080/",
          "height": 249
        },
        "id": "UV-XlfK-0Gwv",
        "outputId": "f315fa8d-d8d3-460f-ffb2-fc9651bb8f6d"
      },
      "execution_count": 19,
      "outputs": [
        {
          "output_type": "stream",
          "name": "stdout",
          "text": [
            "1/1 [==============================] - 0s 28ms/step\n"
          ]
        },
        {
          "output_type": "error",
          "ename": "TypeError",
          "evalue": "ignored",
          "traceback": [
            "\u001b[0;31m---------------------------------------------------------------------------\u001b[0m",
            "\u001b[0;31mTypeError\u001b[0m                                 Traceback (most recent call last)",
            "\u001b[0;32m<ipython-input-19-b88e38a0cc21>\u001b[0m in \u001b[0;36m<module>\u001b[0;34m\u001b[0m\n\u001b[1;32m      9\u001b[0m \u001b[0mclass_idx\u001b[0m \u001b[0;34m=\u001b[0m \u001b[0mnp\u001b[0m\u001b[0;34m.\u001b[0m\u001b[0margmax\u001b[0m\u001b[0;34m(\u001b[0m\u001b[0mpreds\u001b[0m\u001b[0;34m[\u001b[0m\u001b[0;36m0\u001b[0m\u001b[0;34m]\u001b[0m\u001b[0;34m)\u001b[0m\u001b[0;34m\u001b[0m\u001b[0;34m\u001b[0m\u001b[0m\n\u001b[1;32m     10\u001b[0m \u001b[0mclass_names\u001b[0m \u001b[0;34m=\u001b[0m \u001b[0mtrain_datagen\u001b[0m\u001b[0;34m\u001b[0m\u001b[0;34m\u001b[0m\u001b[0m\n\u001b[0;32m---> 11\u001b[0;31m \u001b[0;32mfor\u001b[0m \u001b[0mname\u001b[0m\u001b[0;34m,\u001b[0m \u001b[0midx\u001b[0m \u001b[0;32min\u001b[0m \u001b[0mclass_names\u001b[0m\u001b[0;34m(\u001b[0m\u001b[0;34m)\u001b[0m\u001b[0;34m:\u001b[0m\u001b[0;34m\u001b[0m\u001b[0;34m\u001b[0m\u001b[0m\n\u001b[0m\u001b[1;32m     12\u001b[0m     \u001b[0;32mif\u001b[0m \u001b[0midx\u001b[0m \u001b[0;34m==\u001b[0m \u001b[0mclass_idx\u001b[0m\u001b[0;34m:\u001b[0m\u001b[0;34m\u001b[0m\u001b[0;34m\u001b[0m\u001b[0m\n\u001b[1;32m     13\u001b[0m         \u001b[0mprint\u001b[0m\u001b[0;34m(\u001b[0m\u001b[0;34m\"Predicted class: \"\u001b[0m\u001b[0;34m,\u001b[0m \u001b[0mname\u001b[0m\u001b[0;34m,\u001b[0m \u001b[0;34m\"with probability of: \"\u001b[0m\u001b[0;34m,\u001b[0m \u001b[0mpreds\u001b[0m\u001b[0;34m[\u001b[0m\u001b[0;36m0\u001b[0m\u001b[0;34m]\u001b[0m\u001b[0;34m[\u001b[0m\u001b[0midx\u001b[0m\u001b[0;34m]\u001b[0m\u001b[0;34m)\u001b[0m\u001b[0;34m\u001b[0m\u001b[0;34m\u001b[0m\u001b[0m\n",
            "\u001b[0;31mTypeError\u001b[0m: 'ImageDataGenerator' object is not callable"
          ]
        }
      ]
    },
    {
      "cell_type": "markdown",
      "source": [],
      "metadata": {
        "id": "jEPVkqBgcwhP"
      }
    }
  ],
  "metadata": {
    "accelerator": "GPU",
    "colab": {
      "provenance": []
    },
    "gpuClass": "standard",
    "kernelspec": {
      "display_name": "Python 3",
      "name": "python3"
    },
    "language_info": {
      "name": "python"
    }
  },
  "nbformat": 4,
  "nbformat_minor": 0
}