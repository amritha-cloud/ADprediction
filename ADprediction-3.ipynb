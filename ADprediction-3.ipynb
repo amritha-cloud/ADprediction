{
  "nbformat": 4,
  "nbformat_minor": 0,
  "metadata": {
    "colab": {
      "provenance": []
    },
    "kernelspec": {
      "name": "python3",
      "display_name": "Python 3"
    },
    "language_info": {
      "name": "python"
    }
  },
  "cells": [
    {
      "cell_type": "code",
      "source": [
        "import os\n",
        "import pandas as pd\n",
        "import numpy as np\n",
        "from matplotlib import image\n",
        "import seaborn as sns\n",
        "import matplotlib.pyplot as plt\n",
        "from skimage.transform import resize\n",
        "from skimage.io import imread\n",
        "from skimage.color import rgb2gray\n",
        "from sklearn.model_selection import GridSearchCV\n",
        "from sklearn.model_selection import train_test_split\n",
        "from sklearn.pipeline import Pipeline\n",
        "from sklearn.decomposition import PCA\n",
        "from sklearn.preprocessing import StandardScaler\n",
        "from sklearn.linear_model import LogisticRegression\n",
        "from sklearn.svm import SVC\n",
        "from sklearn.ensemble import RandomForestClassifier\n",
        "from sklearn.metrics import confusion_matrix\n",
        "from sklearn.metrics import classification_report\n"
      ],
      "metadata": {
        "id": "ETeJkZe6RE9i"
      },
      "execution_count": 18,
      "outputs": []
    },
    {
      "cell_type": "code",
      "source": [
        "from google.colab import drive"
      ],
      "metadata": {
        "id": "ojoOZkoaXg4D"
      },
      "execution_count": 3,
      "outputs": []
    },
    {
      "cell_type": "code",
      "source": [
        "drive.mount('/content/drive')"
      ],
      "metadata": {
        "colab": {
          "base_uri": "https://localhost:8080/"
        },
        "id": "ME0hyOpuYXtm",
        "outputId": "f760632b-cd79-422b-f123-811642e4c1af"
      },
      "execution_count": 5,
      "outputs": [
        {
          "output_type": "stream",
          "name": "stdout",
          "text": [
            "Drive already mounted at /content/drive; to attempt to forcibly remount, call drive.mount(\"/content/drive\", force_remount=True).\n"
          ]
        }
      ]
    },
    {
      "cell_type": "code",
      "source": [
        "pathtest = '/content/drive/MyDrive/Alzheimer_s Dataset-2/test'\n",
        "pathtrain = '/content/drive/MyDrive/Alzheimer_s Dataset-2/train'"
      ],
      "metadata": {
        "id": "DKGVQAcC7oXU"
      },
      "execution_count": 6,
      "outputs": []
    },
    {
      "cell_type": "code",
      "source": [
        "import tensorflow as tf\n",
        "tf.__version__"
      ],
      "metadata": {
        "colab": {
          "base_uri": "https://localhost:8080/",
          "height": 37
        },
        "id": "1QhZaNM_ct1s",
        "outputId": "b79434a7-10e0-400d-c5a8-35666b9d6371"
      },
      "execution_count": 7,
      "outputs": [
        {
          "output_type": "execute_result",
          "data": {
            "text/plain": [
              "'2.11.0'"
            ],
            "application/vnd.google.colaboratory.intrinsic+json": {
              "type": "string"
            }
          },
          "metadata": {},
          "execution_count": 7
        }
      ]
    },
    {
      "cell_type": "code",
      "source": [
        "class1 = '/content/drive/MyDrive/Alzheimer_s Dataset-2/train/VeryMildDemented' \n",
        "class2 = '/content/drive/MyDrive/Alzheimer_s Dataset-2/train/MildDemented'\n",
        "class3 = '/content/drive/MyDrive/Alzheimer_s Dataset-2/train/ModerateDemented'\n",
        "class0 = '/content/drive/MyDrive/Alzheimer_s Dataset-2/train/NonDemented'\n"
      ],
      "metadata": {
        "id": "gj1eg8gxdLcF"
      },
      "execution_count": 8,
      "outputs": []
    },
    {
      "cell_type": "code",
      "source": [
        "def file_append(class_path):    \n",
        "    image_array = []    \n",
        "    curr_path = os.path.join(os.getcwd(),class_path)  \n",
        "    cnt = 0\n",
        "    file_list = [k for k in os.listdir(curr_path) if '.jpg' in k]\n",
        "    \n",
        "    for x in file_list:    \n",
        "        img_path = os.path.join(curr_path,x) \n",
        "        img = imread(img_path)\n",
        "        img = resize(img,(60,60,3))    \n",
        "        img = img.flatten()\n",
        "        image_array.append(img)\n",
        "        \n",
        "    return image_array\n",
        "class1_img = file_append(class1)\n",
        "class2_img = file_append(class2)\n",
        "class3_img = file_append(class3)\n",
        "class0_img = file_append(class0)"
      ],
      "metadata": {
        "id": "bkd8Vossd94N"
      },
      "execution_count": 9,
      "outputs": []
    },
    {
      "cell_type": "code",
      "source": [
        "\n",
        "df1 = pd.DataFrame(class1_img)\n",
        "df1['y']  = 1  \n",
        "df2 = pd.DataFrame(class2_img)\n",
        "df2['y']  = 2\n",
        "df3 = pd.DataFrame(class3_img)\n",
        "df3['y']  = 3\n",
        "df0 = pd.DataFrame(class0_img)\n",
        "df0['y']  = 0\n",
        "\n",
        "df = pd.concat([df0,df1,df2,df3],ignore_index=True)\n",
        "df = df.sample(frac=1, random_state=42).reset_index(drop=True)\n"
      ],
      "metadata": {
        "id": "kuRXinKoebPO"
      },
      "execution_count": 10,
      "outputs": []
    },
    {
      "cell_type": "code",
      "source": [
        "df"
      ],
      "metadata": {
        "colab": {
          "base_uri": "https://localhost:8080/",
          "height": 419
        },
        "id": "Me5TieWMewoj",
        "outputId": "6736997c-dafa-4149-eaa8-67266e15999f"
      },
      "execution_count": 11,
      "outputs": [
        {
          "output_type": "execute_result",
          "data": {
            "text/plain": [
              "        0    1    2    3    4    5    6    7    8    9  ...  10791  10792  \\\n",
              "0     0.0  0.0  0.0  0.0  0.0  0.0  0.0  0.0  0.0  0.0  ...    0.0    0.0   \n",
              "1     0.0  0.0  0.0  0.0  0.0  0.0  0.0  0.0  0.0  0.0  ...    0.0    0.0   \n",
              "2     0.0  0.0  0.0  0.0  0.0  0.0  0.0  0.0  0.0  0.0  ...    0.0    0.0   \n",
              "3     0.0  0.0  0.0  0.0  0.0  0.0  0.0  0.0  0.0  0.0  ...    0.0    0.0   \n",
              "4     0.0  0.0  0.0  0.0  0.0  0.0  0.0  0.0  0.0  0.0  ...    0.0    0.0   \n",
              "...   ...  ...  ...  ...  ...  ...  ...  ...  ...  ...  ...    ...    ...   \n",
              "5116  0.0  0.0  0.0  0.0  0.0  0.0  0.0  0.0  0.0  0.0  ...    0.0    0.0   \n",
              "5117  0.0  0.0  0.0  0.0  0.0  0.0  0.0  0.0  0.0  0.0  ...    0.0    0.0   \n",
              "5118  0.0  0.0  0.0  0.0  0.0  0.0  0.0  0.0  0.0  0.0  ...    0.0    0.0   \n",
              "5119  0.0  0.0  0.0  0.0  0.0  0.0  0.0  0.0  0.0  0.0  ...    0.0    0.0   \n",
              "5120  0.0  0.0  0.0  0.0  0.0  0.0  0.0  0.0  0.0  0.0  ...    0.0    0.0   \n",
              "\n",
              "      10793  10794  10795  10796  10797  10798  10799  y  \n",
              "0       0.0    0.0    0.0    0.0    0.0    0.0    0.0  0  \n",
              "1       0.0    0.0    0.0    0.0    0.0    0.0    0.0  0  \n",
              "2       0.0    0.0    0.0    0.0    0.0    0.0    0.0  0  \n",
              "3       0.0    0.0    0.0    0.0    0.0    0.0    0.0  0  \n",
              "4       0.0    0.0    0.0    0.0    0.0    0.0    0.0  0  \n",
              "...     ...    ...    ...    ...    ...    ...    ... ..  \n",
              "5116    0.0    0.0    0.0    0.0    0.0    0.0    0.0  2  \n",
              "5117    0.0    0.0    0.0    0.0    0.0    0.0    0.0  0  \n",
              "5118    0.0    0.0    0.0    0.0    0.0    0.0    0.0  1  \n",
              "5119    0.0    0.0    0.0    0.0    0.0    0.0    0.0  1  \n",
              "5120    0.0    0.0    0.0    0.0    0.0    0.0    0.0  0  \n",
              "\n",
              "[5121 rows x 10801 columns]"
            ],
            "text/html": [
              "\n",
              "  <div id=\"df-7ce7733d-2268-47a4-acc3-15cd6a1dd039\">\n",
              "    <div class=\"colab-df-container\">\n",
              "      <div>\n",
              "<style scoped>\n",
              "    .dataframe tbody tr th:only-of-type {\n",
              "        vertical-align: middle;\n",
              "    }\n",
              "\n",
              "    .dataframe tbody tr th {\n",
              "        vertical-align: top;\n",
              "    }\n",
              "\n",
              "    .dataframe thead th {\n",
              "        text-align: right;\n",
              "    }\n",
              "</style>\n",
              "<table border=\"1\" class=\"dataframe\">\n",
              "  <thead>\n",
              "    <tr style=\"text-align: right;\">\n",
              "      <th></th>\n",
              "      <th>0</th>\n",
              "      <th>1</th>\n",
              "      <th>2</th>\n",
              "      <th>3</th>\n",
              "      <th>4</th>\n",
              "      <th>5</th>\n",
              "      <th>6</th>\n",
              "      <th>7</th>\n",
              "      <th>8</th>\n",
              "      <th>9</th>\n",
              "      <th>...</th>\n",
              "      <th>10791</th>\n",
              "      <th>10792</th>\n",
              "      <th>10793</th>\n",
              "      <th>10794</th>\n",
              "      <th>10795</th>\n",
              "      <th>10796</th>\n",
              "      <th>10797</th>\n",
              "      <th>10798</th>\n",
              "      <th>10799</th>\n",
              "      <th>y</th>\n",
              "    </tr>\n",
              "  </thead>\n",
              "  <tbody>\n",
              "    <tr>\n",
              "      <th>0</th>\n",
              "      <td>0.0</td>\n",
              "      <td>0.0</td>\n",
              "      <td>0.0</td>\n",
              "      <td>0.0</td>\n",
              "      <td>0.0</td>\n",
              "      <td>0.0</td>\n",
              "      <td>0.0</td>\n",
              "      <td>0.0</td>\n",
              "      <td>0.0</td>\n",
              "      <td>0.0</td>\n",
              "      <td>...</td>\n",
              "      <td>0.0</td>\n",
              "      <td>0.0</td>\n",
              "      <td>0.0</td>\n",
              "      <td>0.0</td>\n",
              "      <td>0.0</td>\n",
              "      <td>0.0</td>\n",
              "      <td>0.0</td>\n",
              "      <td>0.0</td>\n",
              "      <td>0.0</td>\n",
              "      <td>0</td>\n",
              "    </tr>\n",
              "    <tr>\n",
              "      <th>1</th>\n",
              "      <td>0.0</td>\n",
              "      <td>0.0</td>\n",
              "      <td>0.0</td>\n",
              "      <td>0.0</td>\n",
              "      <td>0.0</td>\n",
              "      <td>0.0</td>\n",
              "      <td>0.0</td>\n",
              "      <td>0.0</td>\n",
              "      <td>0.0</td>\n",
              "      <td>0.0</td>\n",
              "      <td>...</td>\n",
              "      <td>0.0</td>\n",
              "      <td>0.0</td>\n",
              "      <td>0.0</td>\n",
              "      <td>0.0</td>\n",
              "      <td>0.0</td>\n",
              "      <td>0.0</td>\n",
              "      <td>0.0</td>\n",
              "      <td>0.0</td>\n",
              "      <td>0.0</td>\n",
              "      <td>0</td>\n",
              "    </tr>\n",
              "    <tr>\n",
              "      <th>2</th>\n",
              "      <td>0.0</td>\n",
              "      <td>0.0</td>\n",
              "      <td>0.0</td>\n",
              "      <td>0.0</td>\n",
              "      <td>0.0</td>\n",
              "      <td>0.0</td>\n",
              "      <td>0.0</td>\n",
              "      <td>0.0</td>\n",
              "      <td>0.0</td>\n",
              "      <td>0.0</td>\n",
              "      <td>...</td>\n",
              "      <td>0.0</td>\n",
              "      <td>0.0</td>\n",
              "      <td>0.0</td>\n",
              "      <td>0.0</td>\n",
              "      <td>0.0</td>\n",
              "      <td>0.0</td>\n",
              "      <td>0.0</td>\n",
              "      <td>0.0</td>\n",
              "      <td>0.0</td>\n",
              "      <td>0</td>\n",
              "    </tr>\n",
              "    <tr>\n",
              "      <th>3</th>\n",
              "      <td>0.0</td>\n",
              "      <td>0.0</td>\n",
              "      <td>0.0</td>\n",
              "      <td>0.0</td>\n",
              "      <td>0.0</td>\n",
              "      <td>0.0</td>\n",
              "      <td>0.0</td>\n",
              "      <td>0.0</td>\n",
              "      <td>0.0</td>\n",
              "      <td>0.0</td>\n",
              "      <td>...</td>\n",
              "      <td>0.0</td>\n",
              "      <td>0.0</td>\n",
              "      <td>0.0</td>\n",
              "      <td>0.0</td>\n",
              "      <td>0.0</td>\n",
              "      <td>0.0</td>\n",
              "      <td>0.0</td>\n",
              "      <td>0.0</td>\n",
              "      <td>0.0</td>\n",
              "      <td>0</td>\n",
              "    </tr>\n",
              "    <tr>\n",
              "      <th>4</th>\n",
              "      <td>0.0</td>\n",
              "      <td>0.0</td>\n",
              "      <td>0.0</td>\n",
              "      <td>0.0</td>\n",
              "      <td>0.0</td>\n",
              "      <td>0.0</td>\n",
              "      <td>0.0</td>\n",
              "      <td>0.0</td>\n",
              "      <td>0.0</td>\n",
              "      <td>0.0</td>\n",
              "      <td>...</td>\n",
              "      <td>0.0</td>\n",
              "      <td>0.0</td>\n",
              "      <td>0.0</td>\n",
              "      <td>0.0</td>\n",
              "      <td>0.0</td>\n",
              "      <td>0.0</td>\n",
              "      <td>0.0</td>\n",
              "      <td>0.0</td>\n",
              "      <td>0.0</td>\n",
              "      <td>0</td>\n",
              "    </tr>\n",
              "    <tr>\n",
              "      <th>...</th>\n",
              "      <td>...</td>\n",
              "      <td>...</td>\n",
              "      <td>...</td>\n",
              "      <td>...</td>\n",
              "      <td>...</td>\n",
              "      <td>...</td>\n",
              "      <td>...</td>\n",
              "      <td>...</td>\n",
              "      <td>...</td>\n",
              "      <td>...</td>\n",
              "      <td>...</td>\n",
              "      <td>...</td>\n",
              "      <td>...</td>\n",
              "      <td>...</td>\n",
              "      <td>...</td>\n",
              "      <td>...</td>\n",
              "      <td>...</td>\n",
              "      <td>...</td>\n",
              "      <td>...</td>\n",
              "      <td>...</td>\n",
              "      <td>...</td>\n",
              "    </tr>\n",
              "    <tr>\n",
              "      <th>5116</th>\n",
              "      <td>0.0</td>\n",
              "      <td>0.0</td>\n",
              "      <td>0.0</td>\n",
              "      <td>0.0</td>\n",
              "      <td>0.0</td>\n",
              "      <td>0.0</td>\n",
              "      <td>0.0</td>\n",
              "      <td>0.0</td>\n",
              "      <td>0.0</td>\n",
              "      <td>0.0</td>\n",
              "      <td>...</td>\n",
              "      <td>0.0</td>\n",
              "      <td>0.0</td>\n",
              "      <td>0.0</td>\n",
              "      <td>0.0</td>\n",
              "      <td>0.0</td>\n",
              "      <td>0.0</td>\n",
              "      <td>0.0</td>\n",
              "      <td>0.0</td>\n",
              "      <td>0.0</td>\n",
              "      <td>2</td>\n",
              "    </tr>\n",
              "    <tr>\n",
              "      <th>5117</th>\n",
              "      <td>0.0</td>\n",
              "      <td>0.0</td>\n",
              "      <td>0.0</td>\n",
              "      <td>0.0</td>\n",
              "      <td>0.0</td>\n",
              "      <td>0.0</td>\n",
              "      <td>0.0</td>\n",
              "      <td>0.0</td>\n",
              "      <td>0.0</td>\n",
              "      <td>0.0</td>\n",
              "      <td>...</td>\n",
              "      <td>0.0</td>\n",
              "      <td>0.0</td>\n",
              "      <td>0.0</td>\n",
              "      <td>0.0</td>\n",
              "      <td>0.0</td>\n",
              "      <td>0.0</td>\n",
              "      <td>0.0</td>\n",
              "      <td>0.0</td>\n",
              "      <td>0.0</td>\n",
              "      <td>0</td>\n",
              "    </tr>\n",
              "    <tr>\n",
              "      <th>5118</th>\n",
              "      <td>0.0</td>\n",
              "      <td>0.0</td>\n",
              "      <td>0.0</td>\n",
              "      <td>0.0</td>\n",
              "      <td>0.0</td>\n",
              "      <td>0.0</td>\n",
              "      <td>0.0</td>\n",
              "      <td>0.0</td>\n",
              "      <td>0.0</td>\n",
              "      <td>0.0</td>\n",
              "      <td>...</td>\n",
              "      <td>0.0</td>\n",
              "      <td>0.0</td>\n",
              "      <td>0.0</td>\n",
              "      <td>0.0</td>\n",
              "      <td>0.0</td>\n",
              "      <td>0.0</td>\n",
              "      <td>0.0</td>\n",
              "      <td>0.0</td>\n",
              "      <td>0.0</td>\n",
              "      <td>1</td>\n",
              "    </tr>\n",
              "    <tr>\n",
              "      <th>5119</th>\n",
              "      <td>0.0</td>\n",
              "      <td>0.0</td>\n",
              "      <td>0.0</td>\n",
              "      <td>0.0</td>\n",
              "      <td>0.0</td>\n",
              "      <td>0.0</td>\n",
              "      <td>0.0</td>\n",
              "      <td>0.0</td>\n",
              "      <td>0.0</td>\n",
              "      <td>0.0</td>\n",
              "      <td>...</td>\n",
              "      <td>0.0</td>\n",
              "      <td>0.0</td>\n",
              "      <td>0.0</td>\n",
              "      <td>0.0</td>\n",
              "      <td>0.0</td>\n",
              "      <td>0.0</td>\n",
              "      <td>0.0</td>\n",
              "      <td>0.0</td>\n",
              "      <td>0.0</td>\n",
              "      <td>1</td>\n",
              "    </tr>\n",
              "    <tr>\n",
              "      <th>5120</th>\n",
              "      <td>0.0</td>\n",
              "      <td>0.0</td>\n",
              "      <td>0.0</td>\n",
              "      <td>0.0</td>\n",
              "      <td>0.0</td>\n",
              "      <td>0.0</td>\n",
              "      <td>0.0</td>\n",
              "      <td>0.0</td>\n",
              "      <td>0.0</td>\n",
              "      <td>0.0</td>\n",
              "      <td>...</td>\n",
              "      <td>0.0</td>\n",
              "      <td>0.0</td>\n",
              "      <td>0.0</td>\n",
              "      <td>0.0</td>\n",
              "      <td>0.0</td>\n",
              "      <td>0.0</td>\n",
              "      <td>0.0</td>\n",
              "      <td>0.0</td>\n",
              "      <td>0.0</td>\n",
              "      <td>0</td>\n",
              "    </tr>\n",
              "  </tbody>\n",
              "</table>\n",
              "<p>5121 rows × 10801 columns</p>\n",
              "</div>\n",
              "      <button class=\"colab-df-convert\" onclick=\"convertToInteractive('df-7ce7733d-2268-47a4-acc3-15cd6a1dd039')\"\n",
              "              title=\"Convert this dataframe to an interactive table.\"\n",
              "              style=\"display:none;\">\n",
              "        \n",
              "  <svg xmlns=\"http://www.w3.org/2000/svg\" height=\"24px\"viewBox=\"0 0 24 24\"\n",
              "       width=\"24px\">\n",
              "    <path d=\"M0 0h24v24H0V0z\" fill=\"none\"/>\n",
              "    <path d=\"M18.56 5.44l.94 2.06.94-2.06 2.06-.94-2.06-.94-.94-2.06-.94 2.06-2.06.94zm-11 1L8.5 8.5l.94-2.06 2.06-.94-2.06-.94L8.5 2.5l-.94 2.06-2.06.94zm10 10l.94 2.06.94-2.06 2.06-.94-2.06-.94-.94-2.06-.94 2.06-2.06.94z\"/><path d=\"M17.41 7.96l-1.37-1.37c-.4-.4-.92-.59-1.43-.59-.52 0-1.04.2-1.43.59L10.3 9.45l-7.72 7.72c-.78.78-.78 2.05 0 2.83L4 21.41c.39.39.9.59 1.41.59.51 0 1.02-.2 1.41-.59l7.78-7.78 2.81-2.81c.8-.78.8-2.07 0-2.86zM5.41 20L4 18.59l7.72-7.72 1.47 1.35L5.41 20z\"/>\n",
              "  </svg>\n",
              "      </button>\n",
              "      \n",
              "  <style>\n",
              "    .colab-df-container {\n",
              "      display:flex;\n",
              "      flex-wrap:wrap;\n",
              "      gap: 12px;\n",
              "    }\n",
              "\n",
              "    .colab-df-convert {\n",
              "      background-color: #E8F0FE;\n",
              "      border: none;\n",
              "      border-radius: 50%;\n",
              "      cursor: pointer;\n",
              "      display: none;\n",
              "      fill: #1967D2;\n",
              "      height: 32px;\n",
              "      padding: 0 0 0 0;\n",
              "      width: 32px;\n",
              "    }\n",
              "\n",
              "    .colab-df-convert:hover {\n",
              "      background-color: #E2EBFA;\n",
              "      box-shadow: 0px 1px 2px rgba(60, 64, 67, 0.3), 0px 1px 3px 1px rgba(60, 64, 67, 0.15);\n",
              "      fill: #174EA6;\n",
              "    }\n",
              "\n",
              "    [theme=dark] .colab-df-convert {\n",
              "      background-color: #3B4455;\n",
              "      fill: #D2E3FC;\n",
              "    }\n",
              "\n",
              "    [theme=dark] .colab-df-convert:hover {\n",
              "      background-color: #434B5C;\n",
              "      box-shadow: 0px 1px 3px 1px rgba(0, 0, 0, 0.15);\n",
              "      filter: drop-shadow(0px 1px 2px rgba(0, 0, 0, 0.3));\n",
              "      fill: #FFFFFF;\n",
              "    }\n",
              "  </style>\n",
              "\n",
              "      <script>\n",
              "        const buttonEl =\n",
              "          document.querySelector('#df-7ce7733d-2268-47a4-acc3-15cd6a1dd039 button.colab-df-convert');\n",
              "        buttonEl.style.display =\n",
              "          google.colab.kernel.accessAllowed ? 'block' : 'none';\n",
              "\n",
              "        async function convertToInteractive(key) {\n",
              "          const element = document.querySelector('#df-7ce7733d-2268-47a4-acc3-15cd6a1dd039');\n",
              "          const dataTable =\n",
              "            await google.colab.kernel.invokeFunction('convertToInteractive',\n",
              "                                                     [key], {});\n",
              "          if (!dataTable) return;\n",
              "\n",
              "          const docLinkHtml = 'Like what you see? Visit the ' +\n",
              "            '<a target=\"_blank\" href=https://colab.research.google.com/notebooks/data_table.ipynb>data table notebook</a>'\n",
              "            + ' to learn more about interactive tables.';\n",
              "          element.innerHTML = '';\n",
              "          dataTable['output_type'] = 'display_data';\n",
              "          await google.colab.output.renderOutput(dataTable, element);\n",
              "          const docLink = document.createElement('div');\n",
              "          docLink.innerHTML = docLinkHtml;\n",
              "          element.appendChild(docLink);\n",
              "        }\n",
              "      </script>\n",
              "    </div>\n",
              "  </div>\n",
              "  "
            ]
          },
          "metadata": {},
          "execution_count": 11
        }
      ]
    },
    {
      "cell_type": "code",
      "source": [
        "df.shape"
      ],
      "metadata": {
        "colab": {
          "base_uri": "https://localhost:8080/"
        },
        "id": "pwGO3tTCe33v",
        "outputId": "a1efafc8-c2eb-497e-be81-3ad5deb334da"
      },
      "execution_count": 12,
      "outputs": [
        {
          "output_type": "execute_result",
          "data": {
            "text/plain": [
              "(5121, 10801)"
            ]
          },
          "metadata": {},
          "execution_count": 12
        }
      ]
    },
    {
      "cell_type": "code",
      "source": [
        "df['y'].value_counts().plot(kind='bar')"
      ],
      "metadata": {
        "colab": {
          "base_uri": "https://localhost:8080/",
          "height": 279
        },
        "id": "3z1xogtie67C",
        "outputId": "742eb15d-06b6-4957-d346-766c1169cdb2"
      },
      "execution_count": 13,
      "outputs": [
        {
          "output_type": "execute_result",
          "data": {
            "text/plain": [
              "<AxesSubplot:>"
            ]
          },
          "metadata": {},
          "execution_count": 13
        },
        {
          "output_type": "display_data",
          "data": {
            "text/plain": [
              "<Figure size 432x288 with 1 Axes>"
            ],
            "image/png": "[encoded data removed]"
          },
          "metadata": {
            "needs_background": "light"
          }
        }
      ]
    },
    {
      "cell_type": "code",
      "source": [
        "sns.barplot(x =['Non-dementia','Very Mild', 'Mild', 'Moderate'],y = df['y'].value_counts())\n",
        "plt.ylabel('Count')\n",
        "plt.title('Class Wise Distribution of data')"
      ],
      "metadata": {
        "colab": {
          "base_uri": "https://localhost:8080/",
          "height": 298
        },
        "id": "crlo3t3RfAwR",
        "outputId": "912afcdd-85c7-46c6-ce15-e51406898089"
      },
      "execution_count": 14,
      "outputs": [
        {
          "output_type": "execute_result",
          "data": {
            "text/plain": [
              "Text(0.5, 1.0, 'Class Wise Distribution of data')"
            ]
          },
          "metadata": {},
          "execution_count": 14
        },
        {
          "output_type": "display_data",
          "data": {
            "text/plain": [
              "<Figure size 432x288 with 1 Axes>"
            ],
            "image/png": "[encoded data removed]"
          },
          "metadata": {
            "needs_background": "light"
          }
        }
      ]
    },
    {
      "cell_type": "code",
      "source": [
        "X,y = df[df.columns[:-1]],df['y']"
      ],
      "metadata": {
        "id": "VCyCJvQdQxxH"
      },
      "execution_count": 19,
      "outputs": []
    },
    {
      "cell_type": "code",
      "source": [
        "X.shape"
      ],
      "metadata": {
        "colab": {
          "base_uri": "https://localhost:8080/"
        },
        "id": "SXHW-Vk0Q3Pv",
        "outputId": "1e45037b-fced-4e8d-fc95-8d73c7cfb2c6"
      },
      "execution_count": 20,
      "outputs": [
        {
          "output_type": "execute_result",
          "data": {
            "text/plain": [
              "(5121, 10800)"
            ]
          },
          "metadata": {},
          "execution_count": 20
        }
      ]
    },
    {
      "cell_type": "code",
      "source": [
        "from tensorflow.keras.utils import to_categorical"
      ],
      "metadata": {
        "id": "47Ql7aakQ60W"
      },
      "execution_count": 21,
      "outputs": []
    },
    {
      "cell_type": "code",
      "source": [
        "print(y.shape)\n",
        "y = to_categorical(y, num_classes=4) # One-hot encoding para minimizar error de 10 clases\n",
        "print(y.shape)"
      ],
      "metadata": {
        "colab": {
          "base_uri": "https://localhost:8080/"
        },
        "id": "hopZQH5pQ9RX",
        "outputId": "91becb36-0ad2-4583-b4d3-d332f0feb261"
      },
      "execution_count": 22,
      "outputs": [
        {
          "output_type": "stream",
          "name": "stdout",
          "text": [
            "(5121,)\n",
            "(5121, 4)\n"
          ]
        }
      ]
    },
    {
      "cell_type": "code",
      "source": [
        "X_train,X_test,y_train,y_test = train_test_split(X,y,train_size=0.8,random_state=121)"
      ],
      "metadata": {
        "id": "vRyxKetNRAJL"
      },
      "execution_count": 23,
      "outputs": []
    },
    {
      "cell_type": "code",
      "source": [
        "y_train.shape"
      ],
      "metadata": {
        "colab": {
          "base_uri": "https://localhost:8080/"
        },
        "id": "gfTGo5tPRC2u",
        "outputId": "a255b574-2965-491f-b73e-de2cad9fa9bb"
      },
      "execution_count": 24,
      "outputs": [
        {
          "output_type": "execute_result",
          "data": {
            "text/plain": [
              "(4096, 4)"
            ]
          },
          "metadata": {},
          "execution_count": 24
        }
      ]
    },
    {
      "cell_type": "code",
      "source": [
        "data_pipe = Pipeline(\n",
        "    [\n",
        "        ('scaler', StandardScaler()), \n",
        "        ('pca',PCA(n_components=0.9)) #redudir dimencionalidad\n",
        "    ]\n",
        ")"
      ],
      "metadata": {
        "id": "omyDF2ZYRFel"
      },
      "execution_count": 25,
      "outputs": []
    },
    {
      "cell_type": "code",
      "source": [
        "data_pipe.fit(X_train)\n",
        "\n",
        "X_train = data_pipe.transform(X_train)\n",
        "#al test solo transform\n",
        "X_test = data_pipe.transform(X_test)"
      ],
      "metadata": {
        "id": "w-pAqA7JRIMU"
      },
      "execution_count": 26,
      "outputs": []
    },
    {
      "cell_type": "code",
      "source": [
        "print(f\"Original Data dimension: {df.shape[1]} features\")\n",
        "print(f\"After PCA Data dimension: {X_train.shape[1]} features\")"
      ],
      "metadata": {
        "colab": {
          "base_uri": "https://localhost:8080/"
        },
        "id": "9N4byTCXSXsz",
        "outputId": "a3e73f6c-19cc-4a71-a3b3-671266f87c47"
      },
      "execution_count": 27,
      "outputs": [
        {
          "output_type": "stream",
          "name": "stdout",
          "text": [
            "Original Data dimension: 10801 features\n",
            "After PCA Data dimension: 384 features\n"
          ]
        }
      ]
    },
    {
      "cell_type": "code",
      "source": [
        "data_pipe.named_steps['pca'].explained_variance_ratio_"
      ],
      "metadata": {
        "colab": {
          "base_uri": "https://localhost:8080/"
        },
        "id": "dtO6jbu7Sboi",
        "outputId": "81cf78e2-4035-436b-9158-5a78515d639e"
      },
      "execution_count": 28,
      "outputs": [
        {
          "output_type": "execute_result",
          "data": {
            "text/plain": [
              "array([0.19447156, 0.09377833, 0.06207524, 0.02675957, 0.01965795,\n",
              "       0.01455718, 0.01173944, 0.01043307, 0.00926906, 0.00678271,\n",
              "       0.0063174 , 0.00588752, 0.00561745, 0.00521225, 0.00490471,\n",
              "       0.0046978 , 0.00465273, 0.00444409, 0.00433273, 0.00429219,\n",
              "       0.00407961, 0.00398261, 0.00380986, 0.00372566, 0.00371258,\n",
              "       0.00358088, 0.0034802 , 0.00336328, 0.00331345, 0.00325862,\n",
              "       0.00324765, 0.00315963, 0.00314478, 0.00304737, 0.00301296,\n",
              "       0.00297982, 0.00293479, 0.00291252, 0.00288997, 0.00287413,\n",
              "       0.00277686, 0.00272357, 0.00268003, 0.00263608, 0.00261118,\n",
              "       0.00257448, 0.00252184, 0.00250659, 0.0024861 , 0.00245771,\n",
              "       0.00244645, 0.00242257, 0.00236234, 0.00234347, 0.00230993,\n",
              "       0.00229363, 0.00224385, 0.00224   , 0.0022177 , 0.0021815 ,\n",
              "       0.00216185, 0.00215442, 0.00214388, 0.00210106, 0.00206282,\n",
              "       0.00203389, 0.00200657, 0.00198593, 0.00197009, 0.00196027,\n",
              "       0.00194355, 0.00192867, 0.00192442, 0.00192109, 0.00188977,\n",
              "       0.00188296, 0.0018502 , 0.00183552, 0.00180088, 0.00179591,\n",
              "       0.00178822, 0.00177791, 0.00174251, 0.00173088, 0.00171825,\n",
              "       0.00170144, 0.00168582, 0.00167103, 0.00166737, 0.00165009,\n",
              "       0.00163315, 0.00162283, 0.00161657, 0.00160467, 0.00159704,\n",
              "       0.00157414, 0.00155716, 0.00155255, 0.00154019, 0.00152464,\n",
              "       0.0015113 , 0.00149636, 0.00147903, 0.00147454, 0.00146883,\n",
              "       0.00145671, 0.0014496 , 0.00143712, 0.00143572, 0.00142011,\n",
              "       0.00140879, 0.00138349, 0.00137839, 0.00137132, 0.00135623,\n",
              "       0.00134872, 0.0013422 , 0.00132992, 0.00132106, 0.0013152 ,\n",
              "       0.0012986 , 0.00129644, 0.0012881 , 0.00128562, 0.00127109,\n",
              "       0.00126077, 0.00125373, 0.00123773, 0.00122541, 0.00122179,\n",
              "       0.00121289, 0.00121127, 0.00120871, 0.00119498, 0.00118574,\n",
              "       0.00118455, 0.00117739, 0.00116433, 0.00116292, 0.00115648,\n",
              "       0.00114823, 0.00114161, 0.00113789, 0.00112627, 0.00111443,\n",
              "       0.00110827, 0.00110733, 0.00110039, 0.00109589, 0.00108682,\n",
              "       0.00107265, 0.00106861, 0.00106569, 0.00105535, 0.00104592,\n",
              "       0.00104493, 0.00103899, 0.0010314 , 0.00102725, 0.00102091,\n",
              "       0.00100632, 0.001003  , 0.00099922, 0.00099274, 0.00098989,\n",
              "       0.00098769, 0.00097445, 0.00097242, 0.000969  , 0.00096463,\n",
              "       0.00095308, 0.00094917, 0.0009456 , 0.00094079, 0.00093295,\n",
              "       0.00092563, 0.0009242 , 0.00091902, 0.00091245, 0.00091041,\n",
              "       0.00090167, 0.00089578, 0.00089118, 0.00088519, 0.00087854,\n",
              "       0.00087821, 0.00087306, 0.00086576, 0.00086378, 0.00085756,\n",
              "       0.00085318, 0.00084869, 0.00084372, 0.0008405 , 0.00083486,\n",
              "       0.000829  , 0.00082487, 0.00082322, 0.0008209 , 0.0008157 ,\n",
              "       0.00081322, 0.00080733, 0.00080301, 0.000801  , 0.00079825,\n",
              "       0.00079262, 0.00078897, 0.00078687, 0.00078318, 0.00077584,\n",
              "       0.00077335, 0.00076897, 0.00076793, 0.00076512, 0.00076065,\n",
              "       0.00075753, 0.00075638, 0.00075555, 0.00074873, 0.00074507,\n",
              "       0.00073893, 0.00073602, 0.00073189, 0.00072898, 0.00072801,\n",
              "       0.00072227, 0.00071385, 0.00070967, 0.00070938, 0.00070596,\n",
              "       0.00070373, 0.00069801, 0.00069722, 0.00069618, 0.00068814,\n",
              "       0.00068519, 0.00068433, 0.00068271, 0.00067964, 0.00067389,\n",
              "       0.00067343, 0.00066972, 0.00066531, 0.00066424, 0.00066074,\n",
              "       0.0006574 , 0.0006524 , 0.00064747, 0.00064548, 0.00064526,\n",
              "       0.00064381, 0.00063825, 0.00063585, 0.00063501, 0.00063087,\n",
              "       0.0006265 , 0.00062531, 0.00062178, 0.00061838, 0.00061579,\n",
              "       0.00061243, 0.00061186, 0.00060779, 0.0006042 , 0.00060274,\n",
              "       0.00060137, 0.00059922, 0.00059092, 0.00058695, 0.00058603,\n",
              "       0.00058291, 0.00058174, 0.00057883, 0.00057602, 0.00057444,\n",
              "       0.00057315, 0.00057217, 0.00057041, 0.00056575, 0.00056384,\n",
              "       0.00056006, 0.00055643, 0.0005551 , 0.00055355, 0.00055023,\n",
              "       0.00054913, 0.00054617, 0.00054514, 0.00054255, 0.00053801,\n",
              "       0.00053515, 0.00053449, 0.00053254, 0.00053132, 0.00052893,\n",
              "       0.00052441, 0.00052256, 0.00052172, 0.00051906, 0.00051761,\n",
              "       0.00051605, 0.00051361, 0.00051179, 0.00051095, 0.00050674,\n",
              "       0.00050586, 0.00050231, 0.00050024, 0.00049877, 0.00049736,\n",
              "       0.0004965 , 0.00049227, 0.00049152, 0.00048992, 0.00048982,\n",
              "       0.00048802, 0.00048496, 0.00048261, 0.00047924, 0.00047763,\n",
              "       0.00047639, 0.00047466, 0.00047325, 0.00047133, 0.00047044,\n",
              "       0.00046739, 0.00046387, 0.00046283, 0.00046127, 0.00046048,\n",
              "       0.0004575 , 0.00045684, 0.00045333, 0.00045175, 0.00045095,\n",
              "       0.00044973, 0.00044749, 0.00044458, 0.00044205, 0.00044024,\n",
              "       0.00043876, 0.00043853, 0.00043432, 0.00043328, 0.00043252,\n",
              "       0.00043134, 0.00042941, 0.00042717, 0.00042515, 0.00042451,\n",
              "       0.00042165, 0.00041824, 0.00041661, 0.00041548, 0.00041388,\n",
              "       0.00041299, 0.00041119, 0.00041005, 0.00040805, 0.00040573,\n",
              "       0.00040284, 0.00040187, 0.00040093, 0.00039962, 0.00039911,\n",
              "       0.0003972 , 0.00039444, 0.00039243, 0.00039086, 0.00038974,\n",
              "       0.00038683, 0.00038671, 0.00038534, 0.0003841 , 0.00038298,\n",
              "       0.00038243, 0.00037832, 0.00037794, 0.00037515, 0.0003742 ,\n",
              "       0.00037315, 0.00037185, 0.00037041, 0.00036937])"
            ]
          },
          "metadata": {},
          "execution_count": 28
        }
      ]
    }
  ]
}