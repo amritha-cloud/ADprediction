{
  "nbformat": 4,
  "nbformat_minor": 0,
  "metadata": {
    "colab": {
      "provenance": []
    },
    "kernelspec": {
      "name": "python3",
      "display_name": "Python 3"
    },
    "language_info": {
      "name": "python"
    }
  },
  "cells": [
    {
      "cell_type": "code",
      "execution_count": 3,
      "metadata": {
        "id": "HerXShutLYsg"
      },
      "outputs": [],
      "source": [
        "from google.colab import drive"
      ]
    },
    {
      "cell_type": "code",
      "source": [
        "drive.mount('/content/drive')"
      ],
      "metadata": {
        "colab": {
          "base_uri": "https://localhost:8080/"
        },
        "id": "GOpYE-c2L25d",
        "outputId": "82c4af5c-680f-49d6-d756-b47b8d553ced"
      },
      "execution_count": 4,
      "outputs": [
        {
          "output_type": "stream",
          "name": "stdout",
          "text": [
            "Mounted at /content/drive\n"
          ]
        }
      ]
    },
    {
      "cell_type": "code",
      "source": [
        "import pandas as pd\n",
        "import numpy as np\n",
        "import matplotlib.pyplot as plt\n",
        "import tensorflow as tf\n",
        "import os \n",
        "import random \n",
        "import cv2\n",
        "\n",
        "import keras\n",
        "from keras.layers import GlobalAveragePooling2D, GlobalMaxPooling2D, Reshape, Dense, multiply, Permute, Concatenate, Conv2D, Add, Activation, Lambda\n",
        "from keras import backend as K\n",
        "from keras.activations import sigmoid\n",
        "from keras import layers\n",
        "from keras.preprocessing.image import ImageDataGenerator\n",
        "from keras import initializers\n",
        "from keras.models import Sequential"
      ],
      "metadata": {
        "id": "GiLM02usL_5j"
      },
      "execution_count": 5,
      "outputs": []
    },
    {
      "cell_type": "markdown",
      "source": [],
      "metadata": {
        "id": "PJQG-6DvLgXL"
      }
    },
    {
      "cell_type": "code",
      "source": [
        "!python --version"
      ],
      "metadata": {
        "colab": {
          "base_uri": "https://localhost:8080/"
        },
        "id": "iKeo1zUZMnp-",
        "outputId": "fd0517ba-d388-4d56-d4aa-f2785db0cecd"
      },
      "execution_count": 1,
      "outputs": [
        {
          "output_type": "stream",
          "name": "stdout",
          "text": [
            "Python 3.9.16\n"
          ]
        }
      ]
    },
    {
      "cell_type": "code",
      "source": [
        "print(tf.__version__)\n",
        "print(keras.__version__)"
      ],
      "metadata": {
        "colab": {
          "base_uri": "https://localhost:8080/"
        },
        "id": "vnPL2o7ZM9iE",
        "outputId": "3b5e2595-041f-47a4-bd8b-441c050d3ae6"
      },
      "execution_count": 6,
      "outputs": [
        {
          "output_type": "stream",
          "name": "stdout",
          "text": [
            "2.11.0\n",
            "2.11.0\n"
          ]
        }
      ]
    },
    {
      "cell_type": "code",
      "source": [
        "train_path = \"/content/drive/MyDrive/Alzheimer_s Dataset-2/train\"\n",
        "test_path = \"/content/drive/MyDrive/Alzheimer_s Dataset-2/test\""
      ],
      "metadata": {
        "id": "wFzpMsbeNAXT"
      },
      "execution_count": 8,
      "outputs": []
    },
    {
      "cell_type": "code",
      "source": [
        "train_batches = ImageDataGenerator(validation_split=0.1) \\\n",
        "                .flow_from_directory(directory=train_path,  \n",
        "                                     classes = ['NonDemented', 'VeryMildDemented', \n",
        "                                                'MildDemented', 'ModerateDemented'], \n",
        "                                     subset='training',\n",
        "                                     batch_size=10)\n",
        "\n",
        "validation_batches = ImageDataGenerator(validation_split=0.1) \\\n",
        "                     .flow_from_directory(directory=train_path, \n",
        "                                          classes = ['NonDemented', 'VeryMildDemented', \n",
        "                                                     'MildDemented', 'ModerateDemented'], \n",
        "                                          subset='validation',\n",
        "                                          batch_size=10)\n",
        "                \n",
        "test_batches = ImageDataGenerator() \\\n",
        "                    .flow_from_directory(directory=test_path, \n",
        "                                         classes = ['NonDemented', 'VeryMildDemented', \n",
        "                                                    'MildDemented', 'ModerateDemented'], \n",
        "                                         batch_size=10, \n",
        "                                         shuffle=False)"
      ],
      "metadata": {
        "colab": {
          "base_uri": "https://localhost:8080/"
        },
        "id": "7-I6xBAqNN3i",
        "outputId": "a685abdc-1c10-4df7-d900-b3b04f5b7535"
      },
      "execution_count": 9,
      "outputs": [
        {
          "output_type": "stream",
          "name": "stdout",
          "text": [
            "Found 4610 images belonging to 4 classes.\n",
            "Found 511 images belonging to 4 classes.\n",
            "Found 1279 images belonging to 4 classes.\n"
          ]
        }
      ]
    },
    {
      "cell_type": "code",
      "source": [
        "data = {'NonDemented':      0, \n",
        "        'VeryMildDemented': 0, \n",
        "        'MildDemented':     0,\n",
        "        'ModerateDemented': 0}\n",
        "\n",
        "for cls in os.listdir(train_path):\n",
        "    for img in os.listdir(train_path + '/' + cls):\n",
        "        data[cls] = data[cls] + 1\n",
        "\n",
        "keys = list(data.keys())\n",
        "values = list(data.values())\n",
        "  \n",
        "fig = plt.figure(figsize = (10, 5))\n",
        " \n",
        "plt.bar(keys, values, color=(0.2, 0.4, 0.6, 0.6), width = 0.4)"
      ],
      "metadata": {
        "colab": {
          "base_uri": "https://localhost:8080/",
          "height": 337
        },
        "id": "tWhYNR2tNVGX",
        "outputId": "0ca11874-81c7-4a12-c7c8-852cd44a4df3"
      },
      "execution_count": 10,
      "outputs": [
        {
          "output_type": "execute_result",
          "data": {
            "text/plain": [
              "<BarContainer object of 4 artists>"
            ]
          },
          "metadata": {},
          "execution_count": 10
        },
        {
          "output_type": "display_data",
          "data": {
            "text/plain": [
              "<Figure size 720x360 with 1 Axes>"
            ],
            "image/png": "[encoded data removed]"
          },
          "metadata": {
            "needs_background": "light"
          }
        }
      ]
    },
    {
      "cell_type": "code",
      "source": [
        "IMG_SIZE = 224\n",
        "n_classes = 4\n",
        "\n",
        "model = Sequential([layers.Resizing(IMG_SIZE, IMG_SIZE),\n",
        "                    layers.Rescaling(1./255),\n",
        "                    layers.Conv2D(filters=32, kernel_size=(3, 3), activation='relu', \n",
        "                                  padding = 'same', input_shape=(IMG_SIZE,IMG_SIZE,3)),\n",
        "                    layers.BatchNormalization(),\n",
        "                    layers.MaxPool2D(pool_size=(2, 2)),\n",
        "                    layers.Conv2D(filters=64, kernel_size=(3, 3), \n",
        "                                  activation='relu', padding = 'same'),\n",
        "                    layers.BatchNormalization(),\n",
        "                    layers.MaxPool2D(pool_size=(2, 2)),\n",
        "                    layers.Conv2D(filters=128, kernel_size=(3, 3), \n",
        "                                  activation='relu', padding = 'same'),\n",
        "                    layers.BatchNormalization(),\n",
        "                    layers.MaxPool2D(pool_size=(2, 2)),\n",
        "                    layers.Conv2D(filters=256, kernel_size=(3, 3), \n",
        "                                  activation='relu', padding = 'same'),\n",
        "                    layers.BatchNormalization(),\n",
        "                    layers.MaxPool2D(pool_size=(2, 2)),\n",
        "                    layers.Flatten(),\n",
        "                    layers.Dense(300, activation='relu'),\n",
        "                    layers.Dense(150, activation='relu'),\n",
        "                    layers.Dropout(0.25),\n",
        "                    layers.Dense(n_classes, activation='softmax')])"
      ],
      "metadata": {
        "id": "NiViTPHCNZlf"
      },
      "execution_count": 11,
      "outputs": []
    },
    {
      "cell_type": "code",
      "source": [
        "METRICS = [keras.metrics.CategoricalAccuracy(name='accuracy'),\n",
        "           keras.metrics.Precision(name='precision'),\n",
        "           keras.metrics.Recall(name='recall'),\n",
        "           keras.metrics.AUC(name='auc')]"
      ],
      "metadata": {
        "id": "ocasbTAXNVRP"
      },
      "execution_count": 12,
      "outputs": []
    },
    {
      "cell_type": "code",
      "source": [
        "model.compile(optimizer=tf.keras.optimizers.Adam(learning_rate=0.0001), \n",
        "              loss='categorical_crossentropy', \n",
        "              metrics=METRICS)"
      ],
      "metadata": {
        "id": "4Z2G-2izNewt"
      },
      "execution_count": 13,
      "outputs": []
    },
    {
      "cell_type": "code",
      "source": [
        "EPOCHS = 5\n",
        "BATCH_SIZE = 8"
      ],
      "metadata": {
        "id": "hChS3ujUNhdf"
      },
      "execution_count": 14,
      "outputs": []
    },
    {
      "cell_type": "code",
      "source": [
        "history = model.fit(x=train_batches,\n",
        "                    validation_data=validation_batches,\n",
        "                    steps_per_epoch=len(train_batches),\n",
        "                    validation_steps=len(validation_batches),\n",
        "                    epochs=EPOCHS,\n",
        "                    batch_size=BATCH_SIZE, \n",
        "                    verbose=2)"
      ],
      "metadata": {
        "colab": {
          "base_uri": "https://localhost:8080/"
        },
        "id": "XN3j5-kyNlZb",
        "outputId": "4a743ccd-a861-4e64-a617-23eea2e432b6"
      },
      "execution_count": null,
      "outputs": [
        {
          "output_type": "stream",
          "name": "stdout",
          "text": [
            "Epoch 1/5\n",
            "461/461 - 1251s - loss: 1.2535 - accuracy: 0.5451 - precision: 0.5757 - recall: 0.4688 - auc: 0.8052 - val_loss: 1.0277 - val_accuracy: 0.4834 - val_precision: 0.4884 - val_recall: 0.3307 - val_auc: 0.7980 - 1251s/epoch - 3s/step\n",
            "Epoch 2/5\n",
            "461/461 - 1181s - loss: 0.7321 - accuracy: 0.6803 - precision: 0.7320 - recall: 0.6095 - auc: 0.9044 - val_loss: 0.8003 - val_accuracy: 0.5988 - val_precision: 0.6544 - val_recall: 0.4853 - val_auc: 0.8800 - 1181s/epoch - 3s/step\n",
            "Epoch 3/5\n"
          ]
        }
      ]
    },
    {
      "cell_type": "code",
      "source": [
        "def plot_loss(history, n):\n",
        "    plt.semilogy(history.epoch, history.history['loss'], label='Train')\n",
        "    plt.semilogy(history.epoch, history.history['val_loss'], label='Validation')\n",
        "    plt.xlabel('Epoch')\n",
        "    plt.ylabel('Loss')"
      ],
      "metadata": {
        "id": "uCvFQ0ggiaHB"
      },
      "execution_count": 23,
      "outputs": []
    },
    {
      "cell_type": "code",
      "source": [
        "plot_loss(history, 0)"
      ],
      "metadata": {
        "colab": {
          "base_uri": "https://localhost:8080/",
          "height": 279
        },
        "id": "bVPX913Aidwy",
        "outputId": "b7f55463-4dd1-4185-ea9c-616e489069d4"
      },
      "execution_count": 24,
      "outputs": [
        {
          "output_type": "display_data",
          "data": {
            "text/plain": [
              "<Figure size 432x288 with 1 Axes>"
            ],
            "image/png": "[encoded data removed]"
          },
          "metadata": {
            "needs_background": "light"
          }
        }
      ]
    },
    {
      "cell_type": "code",
      "source": [
        "results = model.evaluate(test_batches, verbose=0)\n",
        "\n",
        "for name, value in zip(model.metrics_names, results):\n",
        "    print(name, ': ', value)"
      ],
      "metadata": {
        "colab": {
          "base_uri": "https://localhost:8080/"
        },
        "id": "ZXABCoDzihNw",
        "outputId": "17c77860-b3f1-4494-df74-cafd0a750f3a"
      },
      "execution_count": 25,
      "outputs": [
        {
          "output_type": "stream",
          "name": "stdout",
          "text": [
            "loss :  0.876672625541687\n",
            "accuracy :  0.6778733134269714\n",
            "precision :  0.7033247947692871\n",
            "recall :  0.6450352072715759\n",
            "auc :  0.8875502347946167\n"
          ]
        }
      ]
    },
    {
      "cell_type": "code",
      "source": [
        "def ECA(x):\n",
        "    k_size = 3 \n",
        "    squeeze = tf.reduce_mean(x,(2,3),keepdims=False)\n",
        "    squeeze = tf.expand_dims(squeeze, axis=1)\n",
        "    attn = layers.Conv1D(filters=1,\n",
        "    kernel_size=k_size,\n",
        "    padding='same',\n",
        "    kernel_initializer='random_normal',\n",
        "    use_bias=False)(squeeze)\n",
        "\n",
        "    attn = tf.expand_dims(tf.transpose(attn, [0, 2, 1]), 3)\n",
        "    attn = tf.math.sigmoid(attn)\n",
        "    scale = x * attn\n",
        "    return x * attn"
      ],
      "metadata": {
        "id": "H36Ln-ChCwxn"
      },
      "execution_count": 1,
      "outputs": []
    },
    {
      "cell_type": "code",
      "source": [
        "IMG_SIZE = 224\n",
        "n_classes = 4\n",
        "\n",
        "inp = layers.Input(shape=(IMG_SIZE,IMG_SIZE,3))\n",
        "x1 = layers.Resizing(IMG_SIZE, IMG_SIZE)(inp)\n",
        "x2 = layers.Rescaling(1./255)(x1)\n",
        "x3 = layers.Conv2D(filters=32, kernel_size=(3, 3), activation='relu', \n",
        "                   padding = 'same', input_shape=(IMG_SIZE,IMG_SIZE,3))(x2)\n",
        "x4 = ECA(x3)\n",
        "x5 = layers.BatchNormalization(axis=-1)(x4)\n",
        "x6 = layers.MaxPool2D(pool_size=(2, 2))(x5)\n",
        "x7 = layers.Conv2D(filters=64, kernel_size=(3, 3), \n",
        "                   activation='relu', padding = 'same')(x6)\n",
        "x8 = ECA(x7)\n",
        "x9 = layers.BatchNormalization(axis=-1)(x8)\n",
        "x10 = layers.MaxPool2D(pool_size=(2, 2))(x9)\n",
        "x11 = layers.Conv2D(filters=128, kernel_size=(3, 3), \n",
        "                    activation='relu', padding = 'same')(x10)\n",
        "x12 = ECA(x11)\n",
        "x13 = layers.BatchNormalization(axis=-1)(x12)\n",
        "x14 = layers.MaxPool2D(pool_size=(2, 2))(x13)\n",
        "x15 = layers.Conv2D(filters=256, kernel_size=(3, 3), \n",
        "                      activation='relu', padding = 'same')(x14)\n",
        "x16 = ECA(x15)\n",
        "x17 = layers.BatchNormalization(axis=-1)(x16)\n",
        "x18 = layers.MaxPool2D(pool_size=(2, 2))(x17)\n",
        "y1 = layers.Flatten()(x18)\n",
        "y2 = layers.Dense(300, activation='relu')(y1)\n",
        "y3 = layers.Dense(150, activation='relu')(y2)\n",
        "y4 = layers.Dropout(0.25)(y3)\n",
        "y = layers.Dense(n_classes, activation='softmax')(y4)   \n",
        "\n",
        "\n",
        "model_ECA = tf.keras.Model(inp, y)"
      ],
      "metadata": {
        "id": "2luZxeypDB-u"
      },
      "execution_count": 6,
      "outputs": []
    }
  ]
}