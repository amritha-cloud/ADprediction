{
 "cells": [
  {
   "cell_type": "code",
   "execution_count": 1,
   "metadata": {
    "collapsed": false
   },
   "outputs": [
    {
     "ename": "NameError",
     "evalue": "name 'coins' is not defined",
     "output_type": "error",
     "traceback": [
      "\u001b[0;31m---------------------------------------------------------------------------\u001b[0m",
      "\u001b[0;31mNameError\u001b[0m                                 Traceback (most recent call last)",
      "\u001b[0;32m/tmp/ipykernel_855/4105533998.py\u001b[0m in \u001b[0;36m<cell line: 3>\u001b[0;34m()\u001b[0m\n\u001b[1;32m      1\u001b[0m \u001b[0;32mfrom\u001b[0m \u001b[0mskimage\u001b[0m\u001b[0;34m.\u001b[0m\u001b[0mfilters\u001b[0m \u001b[0;32mimport\u001b[0m \u001b[0msobel\u001b[0m\u001b[0;34m\u001b[0m\u001b[0;34m\u001b[0m\u001b[0m\n\u001b[1;32m      2\u001b[0m \u001b[0;34m\u001b[0m\u001b[0m\n\u001b[0;32m----> 3\u001b[0;31m \u001b[0melevation_map\u001b[0m \u001b[0;34m=\u001b[0m \u001b[0msobel\u001b[0m\u001b[0;34m(\u001b[0m\u001b[0mcoins\u001b[0m\u001b[0;34m)\u001b[0m\u001b[0;34m\u001b[0m\u001b[0;34m\u001b[0m\u001b[0m\n\u001b[0m\u001b[1;32m      4\u001b[0m \u001b[0;34m\u001b[0m\u001b[0m\n\u001b[1;32m      5\u001b[0m \u001b[0mfig\u001b[0m\u001b[0;34m,\u001b[0m \u001b[0max\u001b[0m \u001b[0;34m=\u001b[0m \u001b[0mplt\u001b[0m\u001b[0;34m.\u001b[0m\u001b[0msubplots\u001b[0m\u001b[0;34m(\u001b[0m\u001b[0mfigsize\u001b[0m\u001b[0;34m=\u001b[0m\u001b[0;34m(\u001b[0m\u001b[0;36m4\u001b[0m\u001b[0;34m,\u001b[0m \u001b[0;36m3\u001b[0m\u001b[0;34m)\u001b[0m\u001b[0;34m)\u001b[0m\u001b[0;34m\u001b[0m\u001b[0;34m\u001b[0m\u001b[0m\n",
      "\u001b[0;31mNameError\u001b[0m: name 'coins' is not defined"
     ]
    }
   ],
   "source": [
    "from skimage.filters import sobel\n",
    "\n",
    "elevation_map = sobel(coins)\n",
    "\n",
    "fig, ax = plt.subplots(figsize=(4, 3))\n",
    "\n",
    "ax.imshow(elevation_map, cmap=plt.cm.gray, interpolation='nearest')\n",
    "\n",
    "ax.axis('off')\n",
    "\n",
    "ax.set_title('elevation_map')\n",
    "\n",
    "markers = np.zeros_like(coins)\n",
    "\n",
    "markers[coins < 30] = 1\n",
    "\n",
    "markers[coins > 150] = 2\n",
    "\n",
    "fig, ax = plt.subplots(figsize=(4, 3))\n",
    "\n",
    "ax.imshow(markers, cmap=plt.cm.spectral, interpolation='nearest')\n",
    "\n",
    "ax.axis('off')\n",
    "\n",
    "ax.set_title('markers')\n",
    "\n",
    "segmentation = morphology.watershed(elevation_map, markers)\n",
    "\n",
    "fig, ax = plt.subplots(figsize=(4, 3))\n",
    "\n",
    "ax.imshow(segmentation, cmap=plt.cm.gray, interpolation='nearest')\n",
    "\n",
    "ax.axis('off')\n",
    "\n",
    "ax.set_title('segmentation')\n",
    "\n",
    "from skimage.color import label2rgb\n",
    "\n",
    "segmentation = ndi.binary_fill_holes(segmentation - 1)\n",
    "\n",
    "labeled_coins, _ = ndi.label(segmentation)\n",
    "\n",
    "image_label_overlay = label2rgb(labeled_coins, image=coins)\n",
    "\n",
    "fig, (ax1, ax2) = plt.subplots(1, 2, figsize=(6, 3), sharex=True, sharey=True)\n",
    "\n",
    "ax1.imshow(coins, cmap=plt.cm.gray, interpolation='nearest')\n",
    "\n",
    "ax1.contour(segmentation, [0.5], linewidths=1.2, colors='y')\n",
    "\n",
    "ax1.axis('off')\n",
    "\n",
    "ax1.set_adjustable('box-forced')\n",
    "\n",
    "ax2.imshow(image_label_overlay, interpolation='nearest')\n",
    "\n",
    "ax2.axis('off')\n",
    "\n",
    "ax2.set_adjustable('box-forced')\n",
    "\n",
    "fig.subplots_adjust(**margins)"
   ]
  },
  {
   "cell_type": "code",
   "execution_count": 0,
   "metadata": {
    "collapsed": false
   },
   "outputs": [
   ],
   "source": [
   ]
  }
 ],
 "metadata": {
  "kernelspec": {
   "display_name": "Python 3 (system-wide)",
   "language": "python",
   "metadata": {
    "cocalc": {
     "description": "Python 3 programming language",
     "priority": 100,
     "url": "https://www.python.org/"
    }
   },
   "name": "python3",
   "resource_dir": "/ext/jupyter/kernels/python3"
  },
  "language_info": {
   "codemirror_mode": {
    "name": "ipython",
    "version": 3
   },
   "file_extension": ".py",
   "mimetype": "text/x-python",
   "name": "python",
   "nbconvert_exporter": "python",
   "pygments_lexer": "ipython3",
   "version": "3.8.10"
  }
 },
 "nbformat": 4,
 "nbformat_minor": 4
}