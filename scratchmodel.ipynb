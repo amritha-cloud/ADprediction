{
  "nbformat": 4,
  "nbformat_minor": 0,
  "metadata": {
    "colab": {
      "provenance": []
    },
    "kernelspec": {
      "name": "python3",
      "display_name": "Python 3"
    },
    "language_info": {
      "name": "python"
    }
  },
  "cells": [
    {
      "cell_type": "code",
      "source": [
        "import tensorflow as tf\n",
        "from tensorflow import keras\n",
        "from tensorflow.keras import layers"
      ],
      "metadata": {
        "id": "Y0pyJZGDJip9"
      },
      "execution_count": 3,
      "outputs": []
    },
    {
      "cell_type": "code",
      "source": [
        "import tensorflow as tf\n",
        "from tensorflow.keras.layers import Input, Conv2D, MaxPooling2D, AveragePooling2D, Flatten, Dense, BatchNormalization, Activation, Add\n",
        "from tensorflow.keras.models import Model\n",
        "\n",
        "def conv_block(input_tensor, filters, strides=(2, 2)):\n",
        "    x = Conv2D(filters=filters, kernel_size=(3, 3), strides=strides, padding='same')(input_tensor)\n",
        "    x = BatchNormalization()(x)\n",
        "    x = Activation('relu')(x)\n",
        "\n",
        "    x = Conv2D(filters=filters, kernel_size=(3, 3), padding='same')(x)\n",
        "    x = BatchNormalization()(x)\n",
        "\n",
        "    shortcut = Conv2D(filters=filters, kernel_size=(1, 1), strides=strides, padding='same')(input_tensor)\n",
        "    shortcut = BatchNormalization()(shortcut)\n",
        "\n",
        "    x = Add()([x, shortcut])\n",
        "    x = Activation('relu')(x)\n",
        "    return x\n",
        "\n",
        "def identity_block(input_tensor, filters):\n",
        "    x = Conv2D(filters=filters, kernel_size=(3, 3), padding='same')(input_tensor)\n",
        "    x = BatchNormalization()(x)\n",
        "    x = Activation('relu')(x)\n",
        "\n",
        "    x = Conv2D(filters=filters, kernel_size=(3, 3), padding='same')(x)\n",
        "    x = BatchNormalization()(x)\n",
        "\n",
        "    x = Add()([x, input_tensor])\n",
        "    x = Activation('relu')(x)\n",
        "    return x\n",
        "\n",
        "def adpm(input_shape=(224, 224, 3), classes=1000):\n",
        "    input_tensor = Input(shape=input_shape)\n",
        "\n",
        "    x = Conv2D(filters=64, kernel_size=(7, 7), strides=(2, 2), padding='same')(input_tensor)\n",
        "    x = BatchNormalization()(x)\n",
        "    x = Activation('relu')(x)\n",
        "    x = MaxPooling2D(pool_size=(3, 3), strides=(2, 2), padding='same')(x)\n",
        "\n",
        "    x = conv_block(x, filters=64, strides=(1, 1))\n",
        "    x = identity_block(x, filters=64)\n",
        "    x = identity_block(x, filters=64)\n",
        "\n",
        "    x = conv_block(x, filters=128)\n",
        "    x = identity_block(x, filters=128)\n",
        "    x = identity_block(x, filters=128)\n",
        "    x = identity_block(x, filters=128)\n",
        "\n",
        "    x = conv_block(x, filters=256)\n",
        "    x = identity_block(x, filters=256)\n",
        "    x = identity_block(x, filters=256)\n",
        "    x = identity_block(x, filters=256)\n",
        "    x = identity_block(x, filters=256)\n",
        "    x = identity_block(x, filters=256)\n",
        "\n",
        "    x = conv_block(x, filters=512)\n",
        "    x = identity_block(x, filters=512)\n",
        "    x = identity_block(x, filters=512)\n",
        "\n",
        "    x = AveragePooling2D(pool_size=(7, 7))(x)\n",
        "    x = Flatten()(x)\n",
        "    x = Dense(units=classes, activation='softmax')(x)\n",
        "\n",
        "    model = Model(inputs=input_tensor, outputs=x)\n",
        "    return model\n"
      ],
      "metadata": {
        "id": "ga10nSqldrrr"
      },
      "execution_count": 7,
      "outputs": []
    }
  ]
}